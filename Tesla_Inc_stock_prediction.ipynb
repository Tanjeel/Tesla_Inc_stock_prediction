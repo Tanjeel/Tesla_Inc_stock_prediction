{
  "nbformat": 4,
  "nbformat_minor": 0,
  "metadata": {
    "colab": {
      "name": "Tesla Inc. stock prediction.ipynb",
      "provenance": []
    },
    "kernelspec": {
      "name": "python3",
      "display_name": "Python 3"
    }
  },
  "cells": [
    {
      "cell_type": "markdown",
      "metadata": {
        "id": "40XEwMIjSPF_",
        "colab_type": "text"
      },
      "source": [
        ""
      ]
    },
    {
      "cell_type": "markdown",
      "metadata": {
        "id": "vToYsbHLSQ38",
        "colab_type": "text"
      },
      "source": [
        "**Tesla Inc. stock price prediction model**\n",
        "\n",
        "Predicting stock prices by analyzing it's previous year's stock prices is categorized in **Supervised Machine Learning** as we are going to predcit data based on past data(Labeled data)\n",
        "\n",
        "For this prediction model we are using Tesla Inc. stock data taken from yahoo finance page. Here is the link\n",
        "https://finance.yahoo.com/quote/TSLA/\n",
        "\n",
        "We are going to use an artificial Recurrent Neural Networks(RNN) called Long Short Term Memory(LSTM) to predict the closing stock price of Tesla Inc.\n",
        "\n",
        "The LSTM model is  specifically designed unit of logic that will help reduce the vanishing gradient problem sufficiently to make recurrent neural networks more useful for long-term memory tasks for example the machine learning model we want to build is a sequence prediction model where LSTM model works very effectively.\n",
        "\n",
        "We can describe our procedure in some points \n",
        "\n",
        "1. **Getting the data**\n",
        "\n",
        "We will collect our data for predicting Tesla Inc. stock prices from yahoo finance page\n",
        "https://finance.yahoo.com/quote/TSLA/\n",
        "\n",
        "2. **EDA(Exploratory Data Analysis)**\n",
        "\n",
        "After getting the data we will try to get a closer look in our data. We can evaluate the data in different diagrams to understand it well.\n",
        "\n",
        "3. **Splitting & reshaping the data to make ready for the machine learning model** \n",
        "\n",
        "When we understand our data we will start to make it ready for the model. In this part we will have to reshape the data to fit in the model and split the data for training set and test set.\n",
        "\n",
        "4. **Building the model**\n",
        "\n",
        "We will build a LSTM model for this stock prediction project. As we want to predict data for 7 days we have to train the model in a way that it can predict accordingly.\n",
        "\n",
        "5. **Testing our model**\n",
        "\n",
        "Finally we can test our model on our test set and observe how it performs there.\n",
        "Then we can compare our model's performance.\n",
        "\n",
        "\n",
        "\n",
        "\n",
        "\n",
        "\n",
        "\n",
        "\n",
        "\n"
      ]
    },
    {
      "cell_type": "code",
      "metadata": {
        "id": "-pHIORrsdMDO",
        "colab_type": "code",
        "colab": {
          "base_uri": "https://localhost:8080/",
          "height": 88
        },
        "outputId": "df5bb9fd-24b1-4d4f-897b-61589a57805c"
      },
      "source": [
        "# First we will have to import different libraries\n",
        "\n",
        "import math # as we want to perform different types of mathematical functions\n",
        "import pandas_datareader as web # to collect the data from yahoo finance page \n",
        "import numpy as np # NumPy is used for scientific computing and data analysis\n",
        "import pandas as pd # to create dataframe and manipulate it to fit the data in the model\n",
        "from sklearn.preprocessing import MinMaxScaler \n",
        "from keras.models import Sequential # this is our model that we will use \n",
        "from keras.layers import Dense, LSTM # to change the default model according to our need \n",
        "import matplotlib.pyplot as plt # to show different types of diagrams to visualize our data\n",
        "plt.style.use(\"fivethirtyeight\") # style of the diagrams "
      ],
      "execution_count": 1,
      "outputs": [
        {
          "output_type": "stream",
          "text": [
            "/usr/local/lib/python3.6/dist-packages/pandas_datareader/compat/__init__.py:7: FutureWarning: pandas.util.testing is deprecated. Use the functions in the public API at pandas.testing instead.\n",
            "  from pandas.util.testing import assert_frame_equal\n",
            "Using TensorFlow backend.\n"
          ],
          "name": "stderr"
        }
      ]
    },
    {
      "cell_type": "code",
      "metadata": {
        "id": "NeZmcpkgfVar",
        "colab_type": "code",
        "colab": {
          "base_uri": "https://localhost:8080/",
          "height": 450
        },
        "outputId": "c1480e47-6605-495d-cd94-ac1a8e0c8bfc"
      },
      "source": [
        "# Get the stock price data from yahoo finance page using pandas_datareader\n",
        "df = web.DataReader(\"TSLA\", data_source = \"yahoo\", start = \"2012-01-01\", end = \"2020-07-01\")\n",
        "# Show the data\n",
        "df"
      ],
      "execution_count": 2,
      "outputs": [
        {
          "output_type": "execute_result",
          "data": {
            "text/html": [
              "<div>\n",
              "<style scoped>\n",
              "    .dataframe tbody tr th:only-of-type {\n",
              "        vertical-align: middle;\n",
              "    }\n",
              "\n",
              "    .dataframe tbody tr th {\n",
              "        vertical-align: top;\n",
              "    }\n",
              "\n",
              "    .dataframe thead th {\n",
              "        text-align: right;\n",
              "    }\n",
              "</style>\n",
              "<table border=\"1\" class=\"dataframe\">\n",
              "  <thead>\n",
              "    <tr style=\"text-align: right;\">\n",
              "      <th></th>\n",
              "      <th>High</th>\n",
              "      <th>Low</th>\n",
              "      <th>Open</th>\n",
              "      <th>Close</th>\n",
              "      <th>Volume</th>\n",
              "      <th>Adj Close</th>\n",
              "    </tr>\n",
              "    <tr>\n",
              "      <th>Date</th>\n",
              "      <th></th>\n",
              "      <th></th>\n",
              "      <th></th>\n",
              "      <th></th>\n",
              "      <th></th>\n",
              "      <th></th>\n",
              "    </tr>\n",
              "  </thead>\n",
              "  <tbody>\n",
              "    <tr>\n",
              "      <th>2012-01-03</th>\n",
              "      <td>29.500000</td>\n",
              "      <td>27.650000</td>\n",
              "      <td>28.940001</td>\n",
              "      <td>28.080000</td>\n",
              "      <td>928100</td>\n",
              "      <td>28.080000</td>\n",
              "    </tr>\n",
              "    <tr>\n",
              "      <th>2012-01-04</th>\n",
              "      <td>28.670000</td>\n",
              "      <td>27.500000</td>\n",
              "      <td>28.209999</td>\n",
              "      <td>27.709999</td>\n",
              "      <td>630100</td>\n",
              "      <td>27.709999</td>\n",
              "    </tr>\n",
              "    <tr>\n",
              "      <th>2012-01-05</th>\n",
              "      <td>27.930000</td>\n",
              "      <td>26.850000</td>\n",
              "      <td>27.760000</td>\n",
              "      <td>27.120001</td>\n",
              "      <td>1005500</td>\n",
              "      <td>27.120001</td>\n",
              "    </tr>\n",
              "    <tr>\n",
              "      <th>2012-01-06</th>\n",
              "      <td>27.790001</td>\n",
              "      <td>26.410000</td>\n",
              "      <td>27.200001</td>\n",
              "      <td>26.910000</td>\n",
              "      <td>986300</td>\n",
              "      <td>26.910000</td>\n",
              "    </tr>\n",
              "    <tr>\n",
              "      <th>2012-01-09</th>\n",
              "      <td>27.490000</td>\n",
              "      <td>26.120001</td>\n",
              "      <td>27.000000</td>\n",
              "      <td>27.250000</td>\n",
              "      <td>897000</td>\n",
              "      <td>27.250000</td>\n",
              "    </tr>\n",
              "    <tr>\n",
              "      <th>...</th>\n",
              "      <td>...</td>\n",
              "      <td>...</td>\n",
              "      <td>...</td>\n",
              "      <td>...</td>\n",
              "      <td>...</td>\n",
              "      <td>...</td>\n",
              "    </tr>\n",
              "    <tr>\n",
              "      <th>2020-06-25</th>\n",
              "      <td>985.979980</td>\n",
              "      <td>937.150024</td>\n",
              "      <td>954.270020</td>\n",
              "      <td>985.979980</td>\n",
              "      <td>9254500</td>\n",
              "      <td>985.979980</td>\n",
              "    </tr>\n",
              "    <tr>\n",
              "      <th>2020-06-26</th>\n",
              "      <td>995.000000</td>\n",
              "      <td>954.869995</td>\n",
              "      <td>994.780029</td>\n",
              "      <td>959.739990</td>\n",
              "      <td>8854900</td>\n",
              "      <td>959.739990</td>\n",
              "    </tr>\n",
              "    <tr>\n",
              "      <th>2020-06-29</th>\n",
              "      <td>1010.000000</td>\n",
              "      <td>948.520020</td>\n",
              "      <td>969.010010</td>\n",
              "      <td>1009.349976</td>\n",
              "      <td>9026400</td>\n",
              "      <td>1009.349976</td>\n",
              "    </tr>\n",
              "    <tr>\n",
              "      <th>2020-06-30</th>\n",
              "      <td>1087.689941</td>\n",
              "      <td>1003.729980</td>\n",
              "      <td>1006.500000</td>\n",
              "      <td>1079.810059</td>\n",
              "      <td>16918500</td>\n",
              "      <td>1079.810059</td>\n",
              "    </tr>\n",
              "    <tr>\n",
              "      <th>2020-07-01</th>\n",
              "      <td>1135.329956</td>\n",
              "      <td>1080.500000</td>\n",
              "      <td>1083.000000</td>\n",
              "      <td>1119.630005</td>\n",
              "      <td>13326900</td>\n",
              "      <td>1119.630005</td>\n",
              "    </tr>\n",
              "  </tbody>\n",
              "</table>\n",
              "<p>2138 rows × 6 columns</p>\n",
              "</div>"
            ],
            "text/plain": [
              "                   High          Low  ...    Volume    Adj Close\n",
              "Date                                  ...                       \n",
              "2012-01-03    29.500000    27.650000  ...    928100    28.080000\n",
              "2012-01-04    28.670000    27.500000  ...    630100    27.709999\n",
              "2012-01-05    27.930000    26.850000  ...   1005500    27.120001\n",
              "2012-01-06    27.790001    26.410000  ...    986300    26.910000\n",
              "2012-01-09    27.490000    26.120001  ...    897000    27.250000\n",
              "...                 ...          ...  ...       ...          ...\n",
              "2020-06-25   985.979980   937.150024  ...   9254500   985.979980\n",
              "2020-06-26   995.000000   954.869995  ...   8854900   959.739990\n",
              "2020-06-29  1010.000000   948.520020  ...   9026400  1009.349976\n",
              "2020-06-30  1087.689941  1003.729980  ...  16918500  1079.810059\n",
              "2020-07-01  1135.329956  1080.500000  ...  13326900  1119.630005\n",
              "\n",
              "[2138 rows x 6 columns]"
            ]
          },
          "metadata": {
            "tags": []
          },
          "execution_count": 2
        }
      ]
    },
    {
      "cell_type": "code",
      "metadata": {
        "id": "LQnnbT58fw-a",
        "colab_type": "code",
        "colab": {
          "base_uri": "https://localhost:8080/",
          "height": 34
        },
        "outputId": "0e79a7e5-e793-417a-b4bc-a1b66724a02e"
      },
      "source": [
        "# Get the number of rows and columns in the data set\n",
        "df.shape"
      ],
      "execution_count": 3,
      "outputs": [
        {
          "output_type": "execute_result",
          "data": {
            "text/plain": [
              "(2138, 6)"
            ]
          },
          "metadata": {
            "tags": []
          },
          "execution_count": 3
        }
      ]
    },
    {
      "cell_type": "code",
      "metadata": {
        "id": "9Q0lP2v7f6k-",
        "colab_type": "code",
        "colab": {
          "base_uri": "https://localhost:8080/",
          "height": 528
        },
        "outputId": "e532f792-e227-4fcc-bb5c-e0ef452959cb"
      },
      "source": [
        "# Visualize the closing price history using matplotlib.pyplot\n",
        " \n",
        "plt.figure(figsize = (16, 8)) # creating the diagram and giving the size of it\n",
        "plt.title(\"Close Price History\") # giving the title of the diagram\n",
        "plt.plot(df[\"Close\"]) # choosing the specific column from the dataset\n",
        "plt.xlabel(\"Date\", fontsize = 28) # giving title to x-axis and setting the fontsize\n",
        "plt.ylabel(\"Close Price USD ($)\", fontsize = 28) # giving title to y-axis\n",
        "plt.show() # to show the diagram"
      ],
      "execution_count": 5,
      "outputs": [
        {
          "output_type": "display_data",
          "data": {
            "image/png": "[encoded data removed]",
            "text/plain": [
              "<Figure size 1152x576 with 1 Axes>"
            ]
          },
          "metadata": {
            "tags": [],
            "needs_background": "light"
          }
        }
      ]
    },
    {
      "cell_type": "code",
      "metadata": {
        "id": "wDvBNr8vi9Zr",
        "colab_type": "code",
        "colab": {
          "base_uri": "https://localhost:8080/",
          "height": 34
        },
        "outputId": "4602f628-0e96-4e93-9884-07caf79f26d5"
      },
      "source": [
        "# Create a new dataframe with only the \"Close column\"\n",
        "data = df.filter([\"Close\"])\n",
        "# Convert the dataframe to a numpy array\n",
        "dataset = data.values\n",
        "# Get the number of rows to train the model on\n",
        "training_data_len = math.ceil(len(dataset) * 0.8) # here we are taking 80% data from the total data set as training data set and keeping away left 20% data for test set. It's one of the key concept of creating machine learning model. We can split the data in a way that training data set consists around (70-80)% data and the rest for valid data set and test data set. \n",
        "# we are also using our math library that we imported in the beginning to perform mathematical action.\n",
        "training_data_len"
      ],
      "execution_count": 7,
      "outputs": [
        {
          "output_type": "execute_result",
          "data": {
            "text/plain": [
              "1711"
            ]
          },
          "metadata": {
            "tags": []
          },
          "execution_count": 7
        }
      ]
    },
    {
      "cell_type": "code",
      "metadata": {
        "id": "ec2Nb2WsoT5a",
        "colab_type": "code",
        "colab": {
          "base_uri": "https://localhost:8080/",
          "height": 136
        },
        "outputId": "c9416d97-2759-4b48-be19-5f4b9f6ac9d4"
      },
      "source": [
        "# Scale the data. Here we are converting our data values into a range of 0 to 1. So we can analyze and predict the value in 0 and 1 format then we can again convert to it's normal value to get the predicted price in normal value. \n",
        "scaler = MinMaxScaler(feature_range = (0, 1))\n",
        "scaled_data = scaler.fit_transform(dataset)\n",
        "scaled_data"
      ],
      "execution_count": 8,
      "outputs": [
        {
          "output_type": "execute_result",
          "data": {
            "text/plain": [
              "array([[0.00482294],\n",
              "       [0.00448561],\n",
              "       [0.0039477 ],\n",
              "       ...,\n",
              "       [0.89945659],\n",
              "       [0.96369576],\n",
              "       [1.        ]])"
            ]
          },
          "metadata": {
            "tags": []
          },
          "execution_count": 8
        }
      ]
    },
    {
      "cell_type": "code",
      "metadata": {
        "id": "dpxFyo_FpSln",
        "colab_type": "code",
        "colab": {
          "base_uri": "https://localhost:8080/",
          "height": 170
        },
        "outputId": "6473dc7c-8602-4c7f-de6b-a3cffbfbcf24"
      },
      "source": [
        "# Create the training data set\n",
        "# Create the scaled training data set\n",
        "train_data = scaled_data[0:training_data_len, :]\n",
        "# Split the data into x_train and y_train data sets\n",
        "x_train = []\n",
        "y_train = []\n",
        "# we will loop through the train_data in range of 7 days. Because we want to make prediction for 7 days. \n",
        "for i in range(7, len(train_data)):\n",
        "  x_train.append(train_data[i - 7:i, 0]) # filling our empty x_train with these values\n",
        "  y_train.append(train_data[i, 0]) # filling our empty y_train with these values\n",
        "  if i <= 8:\n",
        "    print(x_train) # printing values for x_train\n",
        "    print(y_train) # printing values for y_train\n",
        "    print() # to create a new space of line in the end"
      ],
      "execution_count": 9,
      "outputs": [
        {
          "output_type": "stream",
          "text": [
            "[array([0.00482294, 0.00448561, 0.0039477 , 0.00375624, 0.00406623,\n",
            "       0.00440356, 0.0049597 ])]\n",
            "[0.004977935765219873]\n",
            "\n",
            "[array([0.00482294, 0.00448561, 0.0039477 , 0.00375624, 0.00406623,\n",
            "       0.00440356, 0.0049597 ]), array([0.00448561, 0.0039477 , 0.00375624, 0.00406623, 0.00440356,\n",
            "       0.0049597 , 0.00497794])]\n",
            "[0.004977935765219873, 0.0]\n",
            "\n"
          ],
          "name": "stdout"
        }
      ]
    },
    {
      "cell_type": "code",
      "metadata": {
        "id": "oTx4TxEeqFbG",
        "colab_type": "code",
        "colab": {}
      },
      "source": [
        "# Convert the x_train and y_train to numpy arrays\n",
        "x_train, y_train = np.array(x_train), np.array(y_train)"
      ],
      "execution_count": 10,
      "outputs": []
    },
    {
      "cell_type": "code",
      "metadata": {
        "id": "67VQfUWVqOmL",
        "colab_type": "code",
        "colab": {
          "base_uri": "https://localhost:8080/",
          "height": 34
        },
        "outputId": "b0d54b2c-bf6e-4ad7-c7fe-df5651a115db"
      },
      "source": [
        "# Reshaping the data. We have to reshape the data because LSTM model takes data set in (x, y, z) format but our data set is in (x, y) format. so we have reshape our data using NumPy.\n",
        "x_train = np.reshape(x_train, (x_train.shape[0], x_train.shape[1], 1))\n",
        "x_train.shape # to show the reshaped data"
      ],
      "execution_count": 11,
      "outputs": [
        {
          "output_type": "execute_result",
          "data": {
            "text/plain": [
              "(1704, 7, 1)"
            ]
          },
          "metadata": {
            "tags": []
          },
          "execution_count": 11
        }
      ]
    },
    {
      "cell_type": "code",
      "metadata": {
        "id": "oOlX5kWfqt4Z",
        "colab_type": "code",
        "colab": {}
      },
      "source": [
        "# Build the LSTM model. At last we are building our model.\n",
        "\n",
        "model = Sequential() # we imported this model from keras library for this prediction model\n",
        "model.add(LSTM(50, return_sequences=True, input_shape = (x_train.shape[1], 1))) # here we are customizing our model. We are setting 50 neural networks at the first then we are setting True return_sequences because we want to train y_train data set after this and then as x_train is the first data set we have to give an input shape.    \n",
        "model.add(LSTM(50, return_sequences=False)) # same as first parameter used in x_train but here we are setting False return_sequences because we don't have any data set to train after this and we already gave the input shape before so no need for that again here.\n",
        "model.add(Dense(25)) # adding 24 dense layers to the model\n",
        "model.add(Dense(1)) # adding 1 dense layers to the model"
      ],
      "execution_count": 12,
      "outputs": []
    },
    {
      "cell_type": "code",
      "metadata": {
        "id": "9CqmbMuZtSWI",
        "colab_type": "code",
        "colab": {}
      },
      "source": [
        "# Compile the model. We will compile the model with adam optimizer and mean_squared_error as loss function. mean_squared_error is the square of the difference between the predicted and actual target variables, divided by the number of data points. By evaluating this we can make an assumption how good our model worked . The less the value, the better the moddel. \n",
        "model.compile(optimizer = \"adam\", loss = \"mean_squared_error\")"
      ],
      "execution_count": 13,
      "outputs": []
    },
    {
      "cell_type": "code",
      "metadata": {
        "id": "VoJv_B5Euy0l",
        "colab_type": "code",
        "colab": {
          "base_uri": "https://localhost:8080/",
          "height": 68
        },
        "outputId": "8e4211f1-4d0c-42a5-d660-31ebab5a5a72"
      },
      "source": [
        "# Train the model. \n",
        "model.fit(x_train, y_train, batch_size=1, epochs=1) # here we are setting the batch size and epochs for the model as 1. We can use more epochs, in that case it will take more time to fit the data into model.  "
      ],
      "execution_count": 14,
      "outputs": [
        {
          "output_type": "stream",
          "text": [
            "Epoch 1/1\n",
            "1704/1704 [==============================] - 13s 8ms/step - loss: 3.9476e-04\n"
          ],
          "name": "stdout"
        },
        {
          "output_type": "execute_result",
          "data": {
            "text/plain": [
              "<keras.callbacks.callbacks.History at 0x7f41649946a0>"
            ]
          },
          "metadata": {
            "tags": []
          },
          "execution_count": 14
        }
      ]
    },
    {
      "cell_type": "code",
      "metadata": {
        "id": "aqSv8UvTv3Ys",
        "colab_type": "code",
        "colab": {}
      },
      "source": [
        "# Create the testing data set\n",
        "# Create a new array containing scaled values from index 1704 to 2138\n",
        "test_data = scaled_data[training_data_len - 7: , :] # here we are using the left separated data we saved for testing purpose\n",
        "# Create the data sets x_test and y_test\n",
        "x_test = []\n",
        "y_test = dataset[training_data_len: , :] # this is the data set we are going to predict\n",
        "for i in range(7, len(test_data)): # looping through in the range of 7 days to predict data for 7 days as instructed for the project \n",
        "  x_test.append(test_data[i - 7:i, 0])"
      ],
      "execution_count": 15,
      "outputs": []
    },
    {
      "cell_type": "code",
      "metadata": {
        "id": "U-mH7uVRwg92",
        "colab_type": "code",
        "colab": {}
      },
      "source": [
        "# Convert the data to a numpy array\n",
        "x_test = np.array(x_test)"
      ],
      "execution_count": 16,
      "outputs": []
    },
    {
      "cell_type": "code",
      "metadata": {
        "id": "MkuA5tEewkw-",
        "colab_type": "code",
        "colab": {
          "base_uri": "https://localhost:8080/",
          "height": 34
        },
        "outputId": "359d17c6-9545-4f8c-c8f3-f4dd4dbf6587"
      },
      "source": [
        "# Reshape the data. As we did before fro the training data set. We have to reshape the data because LSTM model takes data set in (x, y, z) format but our data set is in (x, y) format. so we have reshape our data using NumPy. \n",
        "x_test = np.reshape(x_test, (x_test.shape[0], x_test.shape[1], 1))\n",
        "x_test.shape"
      ],
      "execution_count": 17,
      "outputs": [
        {
          "output_type": "execute_result",
          "data": {
            "text/plain": [
              "(427, 7, 1)"
            ]
          },
          "metadata": {
            "tags": []
          },
          "execution_count": 17
        }
      ]
    },
    {
      "cell_type": "code",
      "metadata": {
        "id": "lnf26jsdxDLZ",
        "colab_type": "code",
        "colab": {}
      },
      "source": [
        "# Get the models predicted price values\n",
        "predictions = model.predict(x_test)\n",
        "predictions = scaler.inverse_transform(predictions)"
      ],
      "execution_count": 18,
      "outputs": []
    },
    {
      "cell_type": "code",
      "metadata": {
        "id": "GOxb8NCcxKG9",
        "colab_type": "code",
        "colab": {
          "base_uri": "https://localhost:8080/",
          "height": 34
        },
        "outputId": "d4fcced9-25ed-4ff0-fc2b-e53b6585b29e"
      },
      "source": [
        "# Get the root mean squared error(RMSE). We can also use math library functions here but the way this code is written it will be easy to understand what are we actually doing.\n",
        "rmse = np.sqrt(np.mean(predictions - y_test) ** 2) # RMSE gives us a idea about the accuracy of our model. The less the better.\n",
        "rmse"
      ],
      "execution_count": 20,
      "outputs": [
        {
          "output_type": "execute_result",
          "data": {
            "text/plain": [
              "16.731379131522615"
            ]
          },
          "metadata": {
            "tags": []
          },
          "execution_count": 20
        }
      ]
    },
    {
      "cell_type": "code",
      "metadata": {
        "id": "Z0rYH0Vkxhml",
        "colab_type": "code",
        "colab": {
          "base_uri": "https://localhost:8080/",
          "height": 630
        },
        "outputId": "be59d5f7-615e-4ef8-a8c2-016f221c9468"
      },
      "source": [
        "# Plot the data\n",
        "train = data[:training_data_len]\n",
        "valid = data[training_data_len:]\n",
        "valid[\"Predictions\"] = predictions\n",
        "\n",
        "# Visualize the data\n",
        "plt.figure(figsize = (16, 8))\n",
        "plt.title(\"Tesla Inc. stock prediction model\")\n",
        "plt.xlabel(\"Date\", fontsize = 28)\n",
        "plt.ylabel(\"Close Price USD ($)\", fontsize = 28)\n",
        "plt.plot(train[\"Close\"])\n",
        "plt.plot(valid[[\"Close\", \"Predictions\"]])\n",
        "plt.legend([\"Train\", \"Valid\", \"Predictions\"])\n",
        "plt.show();"
      ],
      "execution_count": 21,
      "outputs": [
        {
          "output_type": "stream",
          "text": [
            "/usr/local/lib/python3.6/dist-packages/ipykernel_launcher.py:4: SettingWithCopyWarning: \n",
            "A value is trying to be set on a copy of a slice from a DataFrame.\n",
            "Try using .loc[row_indexer,col_indexer] = value instead\n",
            "\n",
            "See the caveats in the documentation: https://pandas.pydata.org/pandas-docs/stable/user_guide/indexing.html#returning-a-view-versus-a-copy\n",
            "  after removing the cwd from sys.path.\n"
          ],
          "name": "stderr"
        },
        {
          "output_type": "display_data",
          "data": {
            "image/png": "[encoded data removed]",
            "text/plain": [
              "<Figure size 1152x576 with 1 Axes>"
            ]
          },
          "metadata": {
            "tags": [],
            "needs_background": "light"
          }
        }
      ]
    },
    {
      "cell_type": "code",
      "metadata": {
        "id": "3PC5gprayCmU",
        "colab_type": "code",
        "colab": {
          "base_uri": "https://localhost:8080/",
          "height": 450
        },
        "outputId": "9075db93-1ed7-4108-c399-a02ab3efb880"
      },
      "source": [
        "# Show the valid and predicted prices\n",
        "valid"
      ],
      "execution_count": 22,
      "outputs": [
        {
          "output_type": "execute_result",
          "data": {
            "text/html": [
              "<div>\n",
              "<style scoped>\n",
              "    .dataframe tbody tr th:only-of-type {\n",
              "        vertical-align: middle;\n",
              "    }\n",
              "\n",
              "    .dataframe tbody tr th {\n",
              "        vertical-align: top;\n",
              "    }\n",
              "\n",
              "    .dataframe thead th {\n",
              "        text-align: right;\n",
              "    }\n",
              "</style>\n",
              "<table border=\"1\" class=\"dataframe\">\n",
              "  <thead>\n",
              "    <tr style=\"text-align: right;\">\n",
              "      <th></th>\n",
              "      <th>Close</th>\n",
              "      <th>Predictions</th>\n",
              "    </tr>\n",
              "    <tr>\n",
              "      <th>Date</th>\n",
              "      <th></th>\n",
              "      <th></th>\n",
              "    </tr>\n",
              "  </thead>\n",
              "  <tbody>\n",
              "    <tr>\n",
              "      <th>2018-10-19</th>\n",
              "      <td>260.000000</td>\n",
              "      <td>267.838440</td>\n",
              "    </tr>\n",
              "    <tr>\n",
              "      <th>2018-10-22</th>\n",
              "      <td>260.950012</td>\n",
              "      <td>268.758606</td>\n",
              "    </tr>\n",
              "    <tr>\n",
              "      <th>2018-10-23</th>\n",
              "      <td>294.140015</td>\n",
              "      <td>269.599548</td>\n",
              "    </tr>\n",
              "    <tr>\n",
              "      <th>2018-10-24</th>\n",
              "      <td>288.500000</td>\n",
              "      <td>272.826050</td>\n",
              "    </tr>\n",
              "    <tr>\n",
              "      <th>2018-10-25</th>\n",
              "      <td>314.859985</td>\n",
              "      <td>276.936890</td>\n",
              "    </tr>\n",
              "    <tr>\n",
              "      <th>...</th>\n",
              "      <td>...</td>\n",
              "      <td>...</td>\n",
              "    </tr>\n",
              "    <tr>\n",
              "      <th>2020-06-25</th>\n",
              "      <td>985.979980</td>\n",
              "      <td>882.638245</td>\n",
              "    </tr>\n",
              "    <tr>\n",
              "      <th>2020-06-26</th>\n",
              "      <td>959.739990</td>\n",
              "      <td>881.787659</td>\n",
              "    </tr>\n",
              "    <tr>\n",
              "      <th>2020-06-29</th>\n",
              "      <td>1009.349976</td>\n",
              "      <td>878.429565</td>\n",
              "    </tr>\n",
              "    <tr>\n",
              "      <th>2020-06-30</th>\n",
              "      <td>1079.810059</td>\n",
              "      <td>877.933167</td>\n",
              "    </tr>\n",
              "    <tr>\n",
              "      <th>2020-07-01</th>\n",
              "      <td>1119.630005</td>\n",
              "      <td>884.999084</td>\n",
              "    </tr>\n",
              "  </tbody>\n",
              "</table>\n",
              "<p>427 rows × 2 columns</p>\n",
              "</div>"
            ],
            "text/plain": [
              "                  Close  Predictions\n",
              "Date                                \n",
              "2018-10-19   260.000000   267.838440\n",
              "2018-10-22   260.950012   268.758606\n",
              "2018-10-23   294.140015   269.599548\n",
              "2018-10-24   288.500000   272.826050\n",
              "2018-10-25   314.859985   276.936890\n",
              "...                 ...          ...\n",
              "2020-06-25   985.979980   882.638245\n",
              "2020-06-26   959.739990   881.787659\n",
              "2020-06-29  1009.349976   878.429565\n",
              "2020-06-30  1079.810059   877.933167\n",
              "2020-07-01  1119.630005   884.999084\n",
              "\n",
              "[427 rows x 2 columns]"
            ]
          },
          "metadata": {
            "tags": []
          },
          "execution_count": 22
        }
      ]
    },
    {
      "cell_type": "code",
      "metadata": {
        "id": "PF5eFWGMySmz",
        "colab_type": "code",
        "colab": {
          "base_uri": "https://localhost:8080/",
          "height": 34
        },
        "outputId": "3b597008-494a-429f-e349-0ae51640b8bf"
      },
      "source": [
        "# We will go through the same process we did in the above\n",
        "# Get the data from yahoo finance \n",
        "tesla_data = web.DataReader(\"TSLA\", data_source = \"yahoo\", start = \"2012-01-01\", end = \"2020-07-22\")\n",
        "# Create a new dataframe\n",
        "new_df = tesla_data.filter([\"Close\"])\n",
        "# Get the last 7 days closing price values and convert the dataframe to an array\n",
        "last_7_days = new_df[-7:].values\n",
        "# Scale the data to be values between 0 and 1\n",
        "last_7_days_scaled = scaler.transform(last_7_days)\n",
        "# Create an empty list\n",
        "X_test = []\n",
        "# Append the past 7 days \n",
        "X_test.append(last_7_days_scaled)\n",
        "# Convert the X_test data set to a numpt array\n",
        "X_test = np.array(X_test)\n",
        "# Reshape the data\n",
        "X_test = np.reshape(X_test, (X_test.shape[0], X_test.shape[1], 1))\n",
        "# Get the predicted scaled price\n",
        "pred_price = model.predict(X_test)\n",
        "# Undo the scaling\n",
        "pred_price = scaler.inverse_transform(pred_price)\n",
        "print(pred_price)"
      ],
      "execution_count": 23,
      "outputs": [
        {
          "output_type": "stream",
          "text": [
            "[[1205.7518]]\n"
          ],
          "name": "stdout"
        }
      ]
    },
    {
      "cell_type": "code",
      "metadata": {
        "id": "BPz5tEJYzWqM",
        "colab_type": "code",
        "colab": {
          "base_uri": "https://localhost:8080/",
          "height": 153
        },
        "outputId": "01482c64-3004-4349-f4d9-cda4eeb5f5b9"
      },
      "source": [
        "# Now we are comparing our predicted value with the actual value \n",
        "tesla_data_2 = web.DataReader(\"TSLA\", data_source = \"yahoo\", start = \"2020-07-22\", end = \"2020-07-29\")\n",
        "print(tesla_data_2[\"Close\"])"
      ],
      "execution_count": 29,
      "outputs": [
        {
          "output_type": "stream",
          "text": [
            "Date\n",
            "2020-07-22    1592.329956\n",
            "2020-07-23    1513.069946\n",
            "2020-07-24    1417.000000\n",
            "2020-07-27    1539.599976\n",
            "2020-07-28    1476.489990\n",
            "2020-07-29    1499.109985\n",
            "Name: Close, dtype: float64\n"
          ],
          "name": "stdout"
        }
      ]
    },
    {
      "cell_type": "code",
      "metadata": {
        "id": "2K_eZeyrzmsI",
        "colab_type": "code",
        "colab": {}
      },
      "source": [
        ""
      ],
      "execution_count": null,
      "outputs": []
    }
  ]
}